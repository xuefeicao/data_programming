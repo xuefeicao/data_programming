{
 "cells": [
  {
   "cell_type": "code",
   "execution_count": 1,
   "metadata": {},
   "outputs": [
    {
     "name": "stderr",
     "output_type": "stream",
     "text": [
      "/anaconda2/envs/snorkel/lib/python3.6/site-packages/sklearn/utils/fixes.py:313: FutureWarning: numpy not_equal will not check object identity in the future. The comparison did not return the same result as suggested by the identity (`is`)) and will change.\n",
      "  _nan_object_mask = _nan_object_array != _nan_object_array\n"
     ]
    }
   ],
   "source": [
    "%load_ext autoreload\n",
    "%autoreload 2\n",
    "\n",
    "import numpy as np\n",
    "np.random.seed(1000)\n",
    "import matplotlib.pyplot as plt\n",
    "%matplotlib inline\n",
    "import os\n",
    "from snorkel.learning import GenerativeModel\n",
    "from scipy import sparse\n",
    "import matplotlib.pyplot as plt\n",
    "from functools import partial\n",
    "from sklearn.metrics import f1_score\n",
    "from scipy.optimize import minimize\n",
    "from sklearn.utils import shuffle"
   ]
  },
  {
   "cell_type": "code",
   "execution_count": 2,
   "metadata": {},
   "outputs": [],
   "source": [
    "# simulated data \n",
    "#(1,1,1), (-1,-1,-1), (1, 0.5, 0.2)\n",
    "mean_1 = [1,1,1]\n",
    "mean_0 = [-1, -1, -1]\n",
    "std = [1, 0.5, 0.2]\n",
    "#std = [0.1, 0.1, 0.1]\n",
    "n = 500\n",
    "X_1 = np.random.normal(mean_1, std, size=(n, len(mean_1)))\n",
    "X_0 = np.random.normal(mean_0, std, size=(n,len(mean_0)))\n",
    "X = np.concatenate([X_1, X_0], axis=0)\n",
    "Y = np.zeros((2*n,))\n",
    "Y[0:n,] = 1\n",
    "Y[n:,] = -1 \n",
    "tmp = shuffle(range(2*n))\n",
    "X = X[tmp,:]\n",
    "Y = Y[tmp,]\n",
    "chosen_data = range(2*n)\n",
    "\n",
    "n = 250\n",
    "X_1_test = np.random.normal(mean_1, std, size=(n, len(mean_1)))\n",
    "X_0_test = np.random.normal(mean_0, std, size=(n,len(mean_0)))\n",
    "Y_test = np.zeros((2*n,))\n",
    "Y_test[0:n,] = 1\n",
    "Y_test[n:,] = -1 \n",
    "X_test = np.concatenate([X_1_test, X_0_test], axis=0)\n",
    "\n",
    "\n",
    "\n",
    "\n",
    "\n"
   ]
  },
  {
   "cell_type": "code",
   "execution_count": 3,
   "metadata": {},
   "outputs": [],
   "source": [
    "def f(alpha, L_fns=None, ind=None, weights=None, epochs=None):\n",
    "    \"\"\"L_fns: list of functions\n",
    "       l: list of indicator for whether thresholds involve in the particular function \n",
    "    \"\"\"\n",
    "    #alpha = np.exp(alpha)\n",
    "    for i in range(len(ind)):\n",
    "        L_fns[ind[i]] = partial(L_fns[ind[i]], thre=alpha[i])\n",
    "        \n",
    "    L = np.zeros((len(L_fns),len(X))).astype(int)\n",
    "    \n",
    "    for j in range(len(chosen_data)):\n",
    "        i = chosen_data[j]\n",
    "        for i in range(len(L_fns)):\n",
    "            L[i,j] = L_fns[i](X[j])\n",
    "#         L[0,j] = L_fns[0](p_keys['has_human'][i], p_keys['has_road'][i])\n",
    "#         L[1,j] = L_fns[1](p_keys['has_human'][i], p_keys['has_cars'][i])\n",
    "#         L[2,j] = L_fns[2](p_keys['has_human'][i], p_keys['has_bike'][i], p_keys['bike_human_distance'][i])\n",
    "#         L[3,j] = L_fns[3](p_keys['has_human'][i], p_keys['has_bike'][i], p_keys['bike_human_size'][i])\n",
    "#         L[4,j] = L_fns[4](p_keys['has_human'][i], p_keys['has_bike'][i], p_keys['bike_human_num'][i])\n",
    "        \n",
    "    L_train = sparse.csr_matrix(L.T)\n",
    "    gen_model = GenerativeModel()\n",
    "    gen_model.train(L.T, epochs=epochs, decay=0.95, step_size= 0.01/ L.shape[1], reg_param=1e-6)\n",
    "    if weights is not None:\n",
    "        gen_model.weights = weights\n",
    "    train_marginals, likelihood = gen_model.marginals(L_train)\n",
    "    labels = 2 * (train_marginals > 0.5) - 1\n",
    "    gen = np.mean(labels == Y)\n",
    "    f1_gen = f1_score(Y, labels)\n",
    "    if weights is None:\n",
    "        return (gen,f1_gen,labels), gen_model.weights, -likelihood \n",
    "    else:\n",
    "        return -likelihood \n",
    "\n",
    "    \n",
    "    "
   ]
  },
  {
   "cell_type": "code",
   "execution_count": 4,
   "metadata": {},
   "outputs": [],
   "source": [
    "def LF_1(x):\n",
    "    if x[0] < -0.5:\n",
    "        return -1\n",
    "    elif x[0] > 0.5:\n",
    "        return 1 \n",
    "    else:\n",
    "        return 0  \n",
    "\n",
    "def LF_1(x, thre):\n",
    "    if x[0] < -thre:\n",
    "        return -1\n",
    "    elif x[0] > thre:\n",
    "        return 1 \n",
    "    else:\n",
    "        return 0  \n",
    "\n",
    "def LF_2(x, thre):\n",
    "    if x[1] < -thre:\n",
    "        return -1 \n",
    "    elif x[1] > thre:\n",
    "        return 1 \n",
    "    else:\n",
    "        return 0 \n",
    "\n",
    "def LF_3(x, thre):\n",
    "    if x[2] < -thre:\n",
    "        return -1 \n",
    "    elif x[2] > thre:\n",
    "        return 1 \n",
    "    else:\n",
    "        return 0 \n",
    "        "
   ]
  },
  {
   "cell_type": "code",
   "execution_count": 7,
   "metadata": {},
   "outputs": [
    {
     "name": "stdout",
     "output_type": "stream",
     "text": [
      "-751.002768191\n",
      "-1008.33594702\n",
      "[-0.00486206  2.22979729  2.59256973]\n",
      "(0.57699999999999996, 0.26943005181347146)\n",
      "-1189.21041712\n",
      "-1667.09689405\n",
      "[-0.00627649 -0.01115578  3.10980531]\n",
      "(0.82599999999999996, 0.82634730538922152)\n",
      "-1882.74319656\n",
      "-1882.74319656\n",
      "[-0.00627649 -0.01115578  3.10980531]\n",
      "(0.97799999999999998, 0.97795591182364716)\n",
      "-1882.74319656\n",
      "-1882.74319656\n",
      "[-0.00627649 -0.01115578  3.10980531]\n",
      "(0.97799999999999998, 0.97795591182364716)\n",
      "-1882.74319656\n",
      "-1882.74319656\n",
      "[-0.00627649 -0.01115578  3.10980531]\n",
      "(0.97799999999999998, 0.97795591182364716)\n"
     ]
    }
   ],
   "source": [
    "L_fns = [LF_1, LF_2, LF_3]\n",
    "ind = [0, 1, 2]\n",
    "iters = 5\n",
    "alpha = [2, 2, 2]\n",
    "# init = np.zeros((3,2))\n",
    "# init[:,0] = [4, 2, 1]\n",
    "# init[:,1] = [4, 2, 1]\n",
    "\n",
    "for i in range(iters):\n",
    "    ans, weights, fvalue = f(alpha, L_fns=L_fns, ind=ind, epochs=200)\n",
    "    print(fvalue)\n",
    "    f_new = partial(f, L_fns=L_fns, ind=ind, epochs=0, weights=weights)\n",
    "    alpha = minimize(f_new, alpha, method='Nelder-Mead').x\n",
    "    print(f_new(alpha=alpha))\n",
    "    print(alpha)\n",
    "    print(ans[0:2]) \n",
    "\n",
    "\n",
    "    \n"
   ]
  },
  {
   "cell_type": "code",
   "execution_count": 14,
   "metadata": {},
   "outputs": [],
   "source": [
    "# simulations compare: [0, 1] random vs [0, 1] learning threshold \n",
    "sim_n = 1\n",
    "acc = [[0,0] for _ in range(sim_n)]\n",
    "acc_baseline = [[0,0] for _ in range(sim_n)]\n",
    "f1 = [[0,0] for _ in range(sim_n)]\n",
    "f1_baseline = [[0,0] for _ in range(sim_n)]\n",
    "lower = 5\n",
    "upper = 5\n",
    "from sklearn.discriminant_analysis import LinearDiscriminantAnalysis\n",
    "def metric(labels):\n",
    "    clf = LinearDiscriminantAnalysis()\n",
    "    clf.fit(X, labels)\n",
    "    labels = clf.predict(X_test)\n",
    "    gen = np.mean(labels == Y_test)\n",
    "    f1_gen = f1_score(Y_test, labels)\n",
    "    return gen, f1_gen \n",
    "tmp = np.random.uniform(lower, upper, (len(ind),sim_n))\n"
   ]
  },
  {
   "cell_type": "code",
   "execution_count": 15,
   "metadata": {},
   "outputs": [
    {
     "name": "stdout",
     "output_type": "stream",
     "text": [
      "(1000, 3) (500, 3) (1000,) (500,)\n"
     ]
    }
   ],
   "source": [
    "print(X.shape, X_test.shape, Y.shape, Y_test.shape)"
   ]
  },
  {
   "cell_type": "code",
   "execution_count": 16,
   "metadata": {},
   "outputs": [
    {
     "name": "stdout",
     "output_type": "stream",
     "text": [
      "0.5 0.0\n"
     ]
    },
    {
     "name": "stderr",
     "output_type": "stream",
     "text": [
      "/anaconda2/envs/snorkel/lib/python3.6/site-packages/sklearn/metrics/classification.py:1143: UndefinedMetricWarning: F-score is ill-defined and being set to 0.0 due to no predicted samples.\n",
      "  'precision', 'predicted', average, warn_for)\n",
      "/anaconda2/envs/snorkel/lib/python3.6/site-packages/sklearn/discriminant_analysis.py:402: RuntimeWarning: invalid value encountered in true_divide\n",
      "  S**2))[:self._max_components]\n",
      "/anaconda2/envs/snorkel/lib/python3.6/site-packages/sklearn/metrics/classification.py:1143: UndefinedMetricWarning: F-score is ill-defined and being set to 0.0 due to no predicted samples.\n",
      "  'precision', 'predicted', average, warn_for)\n"
     ]
    }
   ],
   "source": [
    "# baseline\n",
    "for i in range(sim_n):\n",
    "    tmp_alpha = tmp[:,i]\n",
    "    ans, _, _ = f(tmp_alpha, L_fns=L_fns, ind=ind, epochs=1000)\n",
    "    acc_baseline[i][0], f1_baseline[i][0] = ans[0:2]\n",
    "    labels = ans[2]\n",
    "    acc_baseline[i][1], f1_baseline[i][1] = metric(labels)\n",
    "print(np.mean([x[1] for x in acc_baseline]), np.mean([x[1] for x in f1_baseline]))\n",
    "        "
   ]
  },
  {
   "cell_type": "code",
   "execution_count": 17,
   "metadata": {},
   "outputs": [
    {
     "ename": "KeyboardInterrupt",
     "evalue": "",
     "output_type": "error",
     "traceback": [
      "\u001b[0;31m---------------------------------------------------------------------------\u001b[0m",
      "\u001b[0;31mKeyboardInterrupt\u001b[0m                         Traceback (most recent call last)",
      "\u001b[0;32m<ipython-input-17-e4a01d2bbd9a>\u001b[0m in \u001b[0;36m<module>\u001b[0;34m\u001b[0m\n\u001b[1;32m      5\u001b[0m         \u001b[0mans\u001b[0m\u001b[0;34m,\u001b[0m \u001b[0mweights\u001b[0m\u001b[0;34m,\u001b[0m \u001b[0m_\u001b[0m \u001b[0;34m=\u001b[0m \u001b[0mf\u001b[0m\u001b[0;34m(\u001b[0m\u001b[0malpha\u001b[0m\u001b[0;34m,\u001b[0m \u001b[0mL_fns\u001b[0m\u001b[0;34m=\u001b[0m\u001b[0mL_fns\u001b[0m\u001b[0;34m,\u001b[0m \u001b[0mind\u001b[0m\u001b[0;34m=\u001b[0m\u001b[0mind\u001b[0m\u001b[0;34m,\u001b[0m \u001b[0mepochs\u001b[0m\u001b[0;34m=\u001b[0m\u001b[0;36m200\u001b[0m\u001b[0;34m)\u001b[0m\u001b[0;34m\u001b[0m\u001b[0m\n\u001b[1;32m      6\u001b[0m         \u001b[0mf_new\u001b[0m \u001b[0;34m=\u001b[0m \u001b[0mpartial\u001b[0m\u001b[0;34m(\u001b[0m\u001b[0mf\u001b[0m\u001b[0;34m,\u001b[0m \u001b[0mL_fns\u001b[0m\u001b[0;34m=\u001b[0m\u001b[0mL_fns\u001b[0m\u001b[0;34m,\u001b[0m \u001b[0mind\u001b[0m\u001b[0;34m=\u001b[0m\u001b[0mind\u001b[0m\u001b[0;34m,\u001b[0m \u001b[0mepochs\u001b[0m\u001b[0;34m=\u001b[0m\u001b[0;36m0\u001b[0m\u001b[0;34m,\u001b[0m \u001b[0mweights\u001b[0m\u001b[0;34m=\u001b[0m\u001b[0mweights\u001b[0m\u001b[0;34m)\u001b[0m\u001b[0;34m\u001b[0m\u001b[0m\n\u001b[0;32m----> 7\u001b[0;31m         \u001b[0malpha\u001b[0m \u001b[0;34m=\u001b[0m \u001b[0mminimize\u001b[0m\u001b[0;34m(\u001b[0m\u001b[0mf_new\u001b[0m\u001b[0;34m,\u001b[0m \u001b[0malpha\u001b[0m\u001b[0;34m,\u001b[0m \u001b[0mmethod\u001b[0m\u001b[0;34m=\u001b[0m\u001b[0;34m'Nelder-Mead'\u001b[0m\u001b[0;34m)\u001b[0m\u001b[0;34m.\u001b[0m\u001b[0mx\u001b[0m\u001b[0;34m\u001b[0m\u001b[0m\n\u001b[0m\u001b[1;32m      8\u001b[0m     \u001b[0mprint\u001b[0m\u001b[0;34m(\u001b[0m\u001b[0mi\u001b[0m\u001b[0;34m,\u001b[0m\u001b[0mj\u001b[0m\u001b[0;34m)\u001b[0m\u001b[0;34m\u001b[0m\u001b[0m\n\u001b[1;32m      9\u001b[0m     \u001b[0macc\u001b[0m\u001b[0;34m[\u001b[0m\u001b[0mi\u001b[0m\u001b[0;34m]\u001b[0m\u001b[0;34m[\u001b[0m\u001b[0;36m0\u001b[0m\u001b[0;34m]\u001b[0m\u001b[0;34m,\u001b[0m \u001b[0mf1\u001b[0m\u001b[0;34m[\u001b[0m\u001b[0mi\u001b[0m\u001b[0;34m]\u001b[0m\u001b[0;34m[\u001b[0m\u001b[0;36m0\u001b[0m\u001b[0;34m]\u001b[0m \u001b[0;34m=\u001b[0m \u001b[0mans\u001b[0m\u001b[0;34m[\u001b[0m\u001b[0;36m0\u001b[0m\u001b[0;34m:\u001b[0m\u001b[0;36m2\u001b[0m\u001b[0;34m]\u001b[0m\u001b[0;34m\u001b[0m\u001b[0m\n",
      "\u001b[0;32m/anaconda2/envs/snorkel/lib/python3.6/site-packages/scipy/optimize/_minimize.py\u001b[0m in \u001b[0;36mminimize\u001b[0;34m(fun, x0, args, method, jac, hess, hessp, bounds, constraints, tol, callback, options)\u001b[0m\n\u001b[1;32m    589\u001b[0m                       callback=callback, **options)\n\u001b[1;32m    590\u001b[0m     \u001b[0;32melif\u001b[0m \u001b[0mmeth\u001b[0m \u001b[0;34m==\u001b[0m \u001b[0;34m'nelder-mead'\u001b[0m\u001b[0;34m:\u001b[0m\u001b[0;34m\u001b[0m\u001b[0m\n\u001b[0;32m--> 591\u001b[0;31m         \u001b[0;32mreturn\u001b[0m \u001b[0m_minimize_neldermead\u001b[0m\u001b[0;34m(\u001b[0m\u001b[0mfun\u001b[0m\u001b[0;34m,\u001b[0m \u001b[0mx0\u001b[0m\u001b[0;34m,\u001b[0m \u001b[0margs\u001b[0m\u001b[0;34m,\u001b[0m \u001b[0mcallback\u001b[0m\u001b[0;34m,\u001b[0m \u001b[0;34m**\u001b[0m\u001b[0moptions\u001b[0m\u001b[0;34m)\u001b[0m\u001b[0;34m\u001b[0m\u001b[0m\n\u001b[0m\u001b[1;32m    592\u001b[0m     \u001b[0;32melif\u001b[0m \u001b[0mmeth\u001b[0m \u001b[0;34m==\u001b[0m \u001b[0;34m'powell'\u001b[0m\u001b[0;34m:\u001b[0m\u001b[0;34m\u001b[0m\u001b[0m\n\u001b[1;32m    593\u001b[0m         \u001b[0;32mreturn\u001b[0m \u001b[0m_minimize_powell\u001b[0m\u001b[0;34m(\u001b[0m\u001b[0mfun\u001b[0m\u001b[0;34m,\u001b[0m \u001b[0mx0\u001b[0m\u001b[0;34m,\u001b[0m \u001b[0margs\u001b[0m\u001b[0;34m,\u001b[0m \u001b[0mcallback\u001b[0m\u001b[0;34m,\u001b[0m \u001b[0;34m**\u001b[0m\u001b[0moptions\u001b[0m\u001b[0;34m)\u001b[0m\u001b[0;34m\u001b[0m\u001b[0m\n",
      "\u001b[0;32m/anaconda2/envs/snorkel/lib/python3.6/site-packages/scipy/optimize/optimize.py\u001b[0m in \u001b[0;36m_minimize_neldermead\u001b[0;34m(func, x0, args, callback, maxiter, maxfev, disp, return_all, initial_simplex, xatol, fatol, adaptive, **unknown_options)\u001b[0m\n\u001b[1;32m    608\u001b[0m                     \u001b[0;32mfor\u001b[0m \u001b[0mj\u001b[0m \u001b[0;32min\u001b[0m \u001b[0mone2np1\u001b[0m\u001b[0;34m:\u001b[0m\u001b[0;34m\u001b[0m\u001b[0m\n\u001b[1;32m    609\u001b[0m                         \u001b[0msim\u001b[0m\u001b[0;34m[\u001b[0m\u001b[0mj\u001b[0m\u001b[0;34m]\u001b[0m \u001b[0;34m=\u001b[0m \u001b[0msim\u001b[0m\u001b[0;34m[\u001b[0m\u001b[0;36m0\u001b[0m\u001b[0;34m]\u001b[0m \u001b[0;34m+\u001b[0m \u001b[0msigma\u001b[0m \u001b[0;34m*\u001b[0m \u001b[0;34m(\u001b[0m\u001b[0msim\u001b[0m\u001b[0;34m[\u001b[0m\u001b[0mj\u001b[0m\u001b[0;34m]\u001b[0m \u001b[0;34m-\u001b[0m \u001b[0msim\u001b[0m\u001b[0;34m[\u001b[0m\u001b[0;36m0\u001b[0m\u001b[0;34m]\u001b[0m\u001b[0;34m)\u001b[0m\u001b[0;34m\u001b[0m\u001b[0m\n\u001b[0;32m--> 610\u001b[0;31m                         \u001b[0mfsim\u001b[0m\u001b[0;34m[\u001b[0m\u001b[0mj\u001b[0m\u001b[0;34m]\u001b[0m \u001b[0;34m=\u001b[0m \u001b[0mfunc\u001b[0m\u001b[0;34m(\u001b[0m\u001b[0msim\u001b[0m\u001b[0;34m[\u001b[0m\u001b[0mj\u001b[0m\u001b[0;34m]\u001b[0m\u001b[0;34m)\u001b[0m\u001b[0;34m\u001b[0m\u001b[0m\n\u001b[0m\u001b[1;32m    611\u001b[0m \u001b[0;34m\u001b[0m\u001b[0m\n\u001b[1;32m    612\u001b[0m         \u001b[0mind\u001b[0m \u001b[0;34m=\u001b[0m \u001b[0mnumpy\u001b[0m\u001b[0;34m.\u001b[0m\u001b[0margsort\u001b[0m\u001b[0;34m(\u001b[0m\u001b[0mfsim\u001b[0m\u001b[0;34m)\u001b[0m\u001b[0;34m\u001b[0m\u001b[0m\n",
      "\u001b[0;32m/anaconda2/envs/snorkel/lib/python3.6/site-packages/scipy/optimize/optimize.py\u001b[0m in \u001b[0;36mfunction_wrapper\u001b[0;34m(*wrapper_args)\u001b[0m\n\u001b[1;32m    291\u001b[0m     \u001b[0;32mdef\u001b[0m \u001b[0mfunction_wrapper\u001b[0m\u001b[0;34m(\u001b[0m\u001b[0;34m*\u001b[0m\u001b[0mwrapper_args\u001b[0m\u001b[0;34m)\u001b[0m\u001b[0;34m:\u001b[0m\u001b[0;34m\u001b[0m\u001b[0m\n\u001b[1;32m    292\u001b[0m         \u001b[0mncalls\u001b[0m\u001b[0;34m[\u001b[0m\u001b[0;36m0\u001b[0m\u001b[0;34m]\u001b[0m \u001b[0;34m+=\u001b[0m \u001b[0;36m1\u001b[0m\u001b[0;34m\u001b[0m\u001b[0m\n\u001b[0;32m--> 293\u001b[0;31m         \u001b[0;32mreturn\u001b[0m \u001b[0mfunction\u001b[0m\u001b[0;34m(\u001b[0m\u001b[0;34m*\u001b[0m\u001b[0;34m(\u001b[0m\u001b[0mwrapper_args\u001b[0m \u001b[0;34m+\u001b[0m \u001b[0margs\u001b[0m\u001b[0;34m)\u001b[0m\u001b[0;34m)\u001b[0m\u001b[0;34m\u001b[0m\u001b[0m\n\u001b[0m\u001b[1;32m    294\u001b[0m \u001b[0;34m\u001b[0m\u001b[0m\n\u001b[1;32m    295\u001b[0m     \u001b[0;32mreturn\u001b[0m \u001b[0mncalls\u001b[0m\u001b[0;34m,\u001b[0m \u001b[0mfunction_wrapper\u001b[0m\u001b[0;34m\u001b[0m\u001b[0m\n",
      "\u001b[0;32m<ipython-input-3-b493e42c4ef9>\u001b[0m in \u001b[0;36mf\u001b[0;34m(alpha, L_fns, ind, weights, epochs)\u001b[0m\n\u001b[1;32m     24\u001b[0m     \u001b[0;32mif\u001b[0m \u001b[0mweights\u001b[0m \u001b[0;32mis\u001b[0m \u001b[0;32mnot\u001b[0m \u001b[0;32mNone\u001b[0m\u001b[0;34m:\u001b[0m\u001b[0;34m\u001b[0m\u001b[0m\n\u001b[1;32m     25\u001b[0m         \u001b[0mgen_model\u001b[0m\u001b[0;34m.\u001b[0m\u001b[0mweights\u001b[0m \u001b[0;34m=\u001b[0m \u001b[0mweights\u001b[0m\u001b[0;34m\u001b[0m\u001b[0m\n\u001b[0;32m---> 26\u001b[0;31m     \u001b[0mtrain_marginals\u001b[0m\u001b[0;34m,\u001b[0m \u001b[0mlikelihood\u001b[0m \u001b[0;34m=\u001b[0m \u001b[0mgen_model\u001b[0m\u001b[0;34m.\u001b[0m\u001b[0mmarginals\u001b[0m\u001b[0;34m(\u001b[0m\u001b[0mL_train\u001b[0m\u001b[0;34m)\u001b[0m\u001b[0;34m\u001b[0m\u001b[0m\n\u001b[0m\u001b[1;32m     27\u001b[0m     \u001b[0mlabels\u001b[0m \u001b[0;34m=\u001b[0m \u001b[0;36m2\u001b[0m \u001b[0;34m*\u001b[0m \u001b[0;34m(\u001b[0m\u001b[0mtrain_marginals\u001b[0m \u001b[0;34m>\u001b[0m \u001b[0;36m0.5\u001b[0m\u001b[0;34m)\u001b[0m \u001b[0;34m-\u001b[0m \u001b[0;36m1\u001b[0m\u001b[0;34m\u001b[0m\u001b[0m\n\u001b[1;32m     28\u001b[0m     \u001b[0mgen\u001b[0m \u001b[0;34m=\u001b[0m \u001b[0mnp\u001b[0m\u001b[0;34m.\u001b[0m\u001b[0mmean\u001b[0m\u001b[0;34m(\u001b[0m\u001b[0mlabels\u001b[0m \u001b[0;34m==\u001b[0m \u001b[0mY\u001b[0m\u001b[0;34m)\u001b[0m\u001b[0;34m\u001b[0m\u001b[0m\n",
      "\u001b[0;32m~/Dropbox (Brown)/mac/Research/data_programming/snorkel/snorkel/learning/gen_learning.py\u001b[0m in \u001b[0;36mmarginals\u001b[0;34m(self, L, candidate_ranges, batch_size)\u001b[0m\n\u001b[1;32m    394\u001b[0m                 \u001b[0mlogp_false\u001b[0m \u001b[0;34m=\u001b[0m \u001b[0;34m-\u001b[0m\u001b[0;36m1\u001b[0m \u001b[0;34m*\u001b[0m \u001b[0mself\u001b[0m\u001b[0;34m.\u001b[0m\u001b[0mweights\u001b[0m\u001b[0;34m.\u001b[0m\u001b[0mclass_prior\u001b[0m\u001b[0;34m\u001b[0m\u001b[0m\n\u001b[1;32m    395\u001b[0m \u001b[0;34m\u001b[0m\u001b[0m\n\u001b[0;32m--> 396\u001b[0;31m                 \u001b[0ml_i\u001b[0m \u001b[0;34m=\u001b[0m \u001b[0mL\u001b[0m\u001b[0;34m[\u001b[0m\u001b[0mi\u001b[0m\u001b[0;34m]\u001b[0m\u001b[0;34m.\u001b[0m\u001b[0mtocoo\u001b[0m\u001b[0;34m(\u001b[0m\u001b[0;34m)\u001b[0m\u001b[0;34m\u001b[0m\u001b[0m\n\u001b[0m\u001b[1;32m    397\u001b[0m \u001b[0;34m\u001b[0m\u001b[0m\n\u001b[1;32m    398\u001b[0m                 \u001b[0;32mfor\u001b[0m \u001b[0ml_index1\u001b[0m \u001b[0;32min\u001b[0m \u001b[0mrange\u001b[0m\u001b[0;34m(\u001b[0m\u001b[0ml_i\u001b[0m\u001b[0;34m.\u001b[0m\u001b[0mnnz\u001b[0m\u001b[0;34m)\u001b[0m\u001b[0;34m:\u001b[0m\u001b[0;34m\u001b[0m\u001b[0m\n",
      "\u001b[0;32m/anaconda2/envs/snorkel/lib/python3.6/site-packages/scipy/sparse/csr.py\u001b[0m in \u001b[0;36m__getitem__\u001b[0;34m(self, key)\u001b[0m\n\u001b[1;32m    280\u001b[0m                               dtype=self.dtype, copy=False)\n\u001b[1;32m    281\u001b[0m \u001b[0;34m\u001b[0m\u001b[0m\n\u001b[0;32m--> 282\u001b[0;31m         \u001b[0mrow\u001b[0m\u001b[0;34m,\u001b[0m \u001b[0mcol\u001b[0m \u001b[0;34m=\u001b[0m \u001b[0mself\u001b[0m\u001b[0;34m.\u001b[0m\u001b[0m_unpack_index\u001b[0m\u001b[0;34m(\u001b[0m\u001b[0mkey\u001b[0m\u001b[0;34m)\u001b[0m\u001b[0;34m\u001b[0m\u001b[0m\n\u001b[0m\u001b[1;32m    283\u001b[0m \u001b[0;34m\u001b[0m\u001b[0m\n\u001b[1;32m    284\u001b[0m         \u001b[0;31m# First attempt to use original row optimized methods\u001b[0m\u001b[0;34m\u001b[0m\u001b[0;34m\u001b[0m\u001b[0m\n",
      "\u001b[0;32m/anaconda2/envs/snorkel/lib/python3.6/site-packages/scipy/sparse/sputils.py\u001b[0m in \u001b[0;36m_unpack_index\u001b[0;34m(self, index)\u001b[0m\n\u001b[1;32m    358\u001b[0m         \"\"\"\n\u001b[1;32m    359\u001b[0m         \u001b[0;31m# First, check if indexing with single boolean matrix.\u001b[0m\u001b[0;34m\u001b[0m\u001b[0;34m\u001b[0m\u001b[0m\n\u001b[0;32m--> 360\u001b[0;31m         \u001b[0;32mfrom\u001b[0m \u001b[0;34m.\u001b[0m\u001b[0mbase\u001b[0m \u001b[0;32mimport\u001b[0m \u001b[0mspmatrix\u001b[0m  \u001b[0;31m# This feels dirty but...\u001b[0m\u001b[0;34m\u001b[0m\u001b[0m\n\u001b[0m\u001b[1;32m    361\u001b[0m         if (isinstance(index, (spmatrix, np.ndarray)) and\n\u001b[1;32m    362\u001b[0m            (index.ndim == 2) and index.dtype.kind == 'b'):\n",
      "\u001b[0;32m/anaconda2/envs/snorkel/lib/python3.6/importlib/_bootstrap.py\u001b[0m in \u001b[0;36m_handle_fromlist\u001b[0;34m(module, fromlist, import_, recursive)\u001b[0m\n",
      "\u001b[0;31mKeyboardInterrupt\u001b[0m: "
     ]
    }
   ],
   "source": [
    "# our method, extract max \n",
    "for i in range(sim_n):\n",
    "    alpha = tmp[:,i]\n",
    "    for j in range(iters):\n",
    "        ans, weights, _ = f(alpha, L_fns=L_fns, ind=ind, epochs=200)\n",
    "        f_new = partial(f, L_fns=L_fns, ind=ind, epochs=0, weights=weights)\n",
    "        alpha = minimize(f_new, alpha, method='Nelder-Mead').x\n",
    "    print(i,j)\n",
    "    acc[i][0], f1[i][0] = ans[0:2]\n",
    "    labels = ans[2]\n",
    "    acc[i][1], f1[i][1] = metric(labels)\n",
    "print(np.mean([x[1] for x in acc]), np.mean([x[1] for x in f1]))  \n",
    "        "
   ]
  },
  {
   "cell_type": "code",
   "execution_count": 10,
   "metadata": {},
   "outputs": [
    {
     "name": "stdout",
     "output_type": "stream",
     "text": [
      "[[ 1.85732701  0.82346156  0.09922926  1.88876315  0.22761698  0.08153212\n",
      "   0.73529025  0.09201986  0.80629535  0.7846683   0.83422968  1.45311759\n",
      "   1.95127227  0.41294227  1.66505524  0.65916574  1.56140248  1.11103006\n",
      "   1.03209949  1.75709669  0.48289837  1.85754753  0.13199199  1.38453394\n",
      "   1.75728017  0.73654868  0.63808297  0.5908707   0.48764574  1.91803055\n",
      "   1.60001319  0.4405304   1.16103229  1.73974143  1.51382624  0.1661766\n",
      "   1.15220462  0.99681015  1.18853847  0.06297392  0.75084641  1.73512788\n",
      "   1.65659983  0.42574965  0.06336282  1.67705328  0.8422862   1.53372225\n",
      "   1.12728429  1.11852553]\n",
      " [ 0.91072865  0.62899112  0.61083202  0.98265218  1.40624206  0.64551136\n",
      "   0.28644333  0.10985214  0.47016806  1.35518096  1.17086215  0.98175003\n",
      "   1.64996595  1.9866008   0.43375988  0.30896648  0.35885572  0.79464605\n",
      "   1.33363345  1.68281421  1.43321541  0.41357517  1.85386714  0.3317915\n",
      "   1.61196313  1.92673448  0.25041791  0.38242737  1.1398077   1.22408875\n",
      "   1.52547257  1.25958765  1.0267123   0.50499157  0.10850899  0.37298201\n",
      "   1.86304154  1.73116346  1.96955264  0.99311622  0.21566243  0.80030621\n",
      "   1.18642578  0.21897032  0.43027967  1.64864954  1.05543882  0.52823968\n",
      "   1.47400619  0.25433633]\n",
      " [ 0.21909404  1.30324127  1.08032916  1.44898266  1.07455906  0.60392662\n",
      "   1.42000897  0.19481672  1.98530868  1.65427092  1.73364644  0.69825515\n",
      "   0.05346664  1.78057735  0.82319608  0.91998759  1.93112691  0.68259528\n",
      "   0.64806495  1.87903517  0.18438168  1.9351884   1.71824197  1.95695273\n",
      "   0.62710973  1.1729764   1.47250484  0.49902176  1.8777136   1.52747275\n",
      "   0.2832201   1.28904134  0.95174562  1.15772049  0.16914617  1.333563\n",
      "   1.65760377  1.4493437   0.5731771   1.29383137  0.02972118  1.1538245\n",
      "   1.95869646  1.08673554  0.6556739   0.50775492  1.98170357  0.10408988\n",
      "   1.14062644  0.64230737]]\n"
     ]
    }
   ],
   "source": [
    "print(tmp)"
   ]
  },
  {
   "cell_type": "code",
   "execution_count": 11,
   "metadata": {},
   "outputs": [
    {
     "name": "stdout",
     "output_type": "stream",
     "text": [
      "0.91336 0.895549614307\n",
      "0.98984 0.989765067912\n"
     ]
    }
   ],
   "source": [
    "print(np.mean([x[0] for x in acc_baseline]), np.mean([x[0] for x in f1_baseline]))\n",
    "\n",
    "print(np.mean([x[0] for x in acc]), np.mean([x[0] for x in f1]))  \n",
    "        "
   ]
  },
  {
   "cell_type": "code",
   "execution_count": null,
   "metadata": {},
   "outputs": [],
   "source": []
  }
 ],
 "metadata": {
  "kernelspec": {
   "display_name": "Python (snorkel)",
   "language": "python",
   "name": "snorkel"
  },
  "language_info": {
   "codemirror_mode": {
    "name": "ipython",
    "version": 3
   },
   "file_extension": ".py",
   "mimetype": "text/x-python",
   "name": "python",
   "nbconvert_exporter": "python",
   "pygments_lexer": "ipython3",
   "version": "3.6.6"
  }
 },
 "nbformat": 4,
 "nbformat_minor": 2
}
