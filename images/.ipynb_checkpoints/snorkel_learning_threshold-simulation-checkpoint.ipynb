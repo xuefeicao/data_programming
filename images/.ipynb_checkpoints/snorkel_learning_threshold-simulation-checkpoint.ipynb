{
 "cells": [
  {
   "cell_type": "code",
   "execution_count": null,
   "metadata": {},
   "outputs": [],
   "source": [
    "%load_ext autoreload\n",
    "%autoreload 2\n",
    "\n",
    "import numpy as np\n",
    "import matplotlib.pyplot as plt\n",
    "%matplotlib inline\n",
    "import os\n",
    "from snorkel.learning import GenerativeModel\n",
    "from scipy import sparse\n",
    "import matplotlib.pyplot as plt\n",
    "from functools import partial\n",
    "from sklearn.metrics import f1_score\n",
    "from scipy.optimize import minimize\n"
   ]
  },
  {
   "cell_type": "code",
   "execution_count": null,
   "metadata": {},
   "outputs": [],
   "source": [
    "def f(alpha, L_fns=None, ind=None, weights=None, epochs=None):\n",
    "    \"\"\"L_fns: list of functions\n",
    "       l: list of indicator for whether thresholds involve in the particular function \n",
    "    \"\"\"\n",
    "    #alpha = np.exp(alpha)\n",
    "    for i in range(len(ind)):\n",
    "        L_fns[ind[i]] = partial(L_fns[ind[i]], thre=alpha[i])\n",
    "        \n",
    "    L = np.zeros((len(L_fns),loader.train_num)).astype(int)\n",
    "    \n",
    "    for j in range(len(chosen_data)):\n",
    "        i = chosen_data[j]\n",
    "#         L[0,j] = L_fns[0](p_keys['has_human'][i], p_keys['has_road'][i])\n",
    "#         L[1,j] = L_fns[1](p_keys['has_human'][i], p_keys['has_cars'][i])\n",
    "#         L[2,j] = L_fns[2](p_keys['has_human'][i], p_keys['has_bike'][i], p_keys['bike_human_distance'][i])\n",
    "#         L[3,j] = L_fns[3](p_keys['has_human'][i], p_keys['has_bike'][i], p_keys['bike_human_size'][i])\n",
    "#         L[4,j] = L_fns[4](p_keys['has_human'][i], p_keys['has_bike'][i], p_keys['bike_human_num'][i])\n",
    "        \n",
    "    L_train = sparse.csr_matrix(L.T)\n",
    "    gen_model = GenerativeModel()\n",
    "    gen_model.train(L.T, epochs=epochs, decay=0.95, step_size= 0.01/ L.shape[1], reg_param=1e-6)\n",
    "    if weights is not None:\n",
    "        gen_model.weights = weights\n",
    "    train_marginals, likelihood = gen_model.marginals(L_train)\n",
    "    labels = 2 * (train_marginals > 0.5) - 1\n",
    "    gen = np.mean(labels == loader.train_ground)\n",
    "    f1_gen = f1_score(loader.train_ground, labels)\n",
    "    if weights is None:\n",
    "        return (gen,f1_gen), gen_model.weights, -likelihood \n",
    "    else:\n",
    "        return -likelihood \n",
    "\n",
    "    \n",
    "    "
   ]
  },
  {
   "cell_type": "code",
   "execution_count": null,
   "metadata": {},
   "outputs": [],
   "source": [
    "L_fns = [LF_street, LF_vehicles, LF_distance, LF_size, LF_number]\n",
    "ind = [2,3]\n",
    "alpha = np.ones((2,))*100\n",
    "alpha = [20,5000]\n",
    "# init = np.zeros((3,2))\n",
    "# init[:,0] = [100, 200, 300]\n",
    "# init[:,1] = [1, 10, 100]\n",
    "\n",
    "iters = 100\n",
    "for i in range(100):\n",
    "    ans, weights, _ = f(alpha, L_fns=L_fns, ind=ind, epochs=500)\n",
    "    f_new = partial(f, L_fns=L_fns, ind=ind, epochs=0, weights=weights)\n",
    "    \n",
    "    alpha = minimize(f_new, alpha, method='Nelder-Mead').x\n",
    "    print(alpha)\n",
    "    print(ans) \n",
    "\n",
    "# f_new = partial(f, L_fns=L_fns, ind=ind, epochs=0, weights=weights)\n",
    "# init = np.zeros((3,2))\n",
    "# init[:,0] = [1, 100, 1000]\n",
    "# init[:,1] = [1, 100, 1000]\n",
    "# a = minimize(f_new,alpha, options={'initial_simplex' :init}, method='Nelder-Mead')\n",
    "    \n",
    "    \n"
   ]
  },
  {
   "cell_type": "code",
   "execution_count": null,
   "metadata": {},
   "outputs": [],
   "source": [
    "# simulated data \n",
    "#(1,1,1), (-1,-1,-1), (1, 0.5, 0.2)\n",
    "mean_1 = [1,1,1]\n",
    "mean_0 = [-1, -1, -1]\n",
    "std = [1, 0.5, 0.2]\n",
    "\n",
    "n = 500\n",
    "X_1 = np.random.normal(mean_1, std, size=(n, len(mean_1)))\n",
    "X_0 = np.random.normal(mean_0, std, size=(n,len(mean_0)))\n",
    "Y = np.zeros((2*n,))\n",
    "Y[0:n,] = 1\n",
    "Y[n:,] = -1 "
   ]
  },
  {
   "cell_type": "code",
   "execution_count": null,
   "metadata": {},
   "outputs": [],
   "source": []
  }
 ],
 "metadata": {
  "kernelspec": {
   "display_name": "Python (snorkel)",
   "language": "python",
   "name": "snorkel"
  },
  "language_info": {
   "codemirror_mode": {
    "name": "ipython",
    "version": 3
   },
   "file_extension": ".py",
   "mimetype": "text/x-python",
   "name": "python",
   "nbconvert_exporter": "python",
   "pygments_lexer": "ipython3",
   "version": "3.6.6"
  }
 },
 "nbformat": 4,
 "nbformat_minor": 2
}
