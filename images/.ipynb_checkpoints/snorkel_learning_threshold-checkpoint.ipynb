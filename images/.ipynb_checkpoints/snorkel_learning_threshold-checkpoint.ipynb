{
 "cells": [
  {
   "cell_type": "code",
   "execution_count": 1,
   "metadata": {},
   "outputs": [
    {
     "name": "stderr",
     "output_type": "stream",
     "text": [
      "/anaconda2/envs/snorkel/lib/python3.6/site-packages/sklearn/utils/fixes.py:313: FutureWarning: numpy not_equal will not check object identity in the future. The comparison did not return the same result as suggested by the identity (`is`)) and will change.\n",
      "  _nan_object_mask = _nan_object_array != _nan_object_array\n"
     ]
    }
   ],
   "source": [
    "%load_ext autoreload\n",
    "%autoreload 2\n",
    "\n",
    "import numpy as np\n",
    "import matplotlib.pyplot as plt\n",
    "%matplotlib inline\n",
    "import os\n",
    "from snorkel.learning import GenerativeModel\n",
    "from scipy import sparse\n",
    "import matplotlib.pyplot as plt\n",
    "from functools import partial\n",
    "from sklearn.metrics import f1_score\n",
    "from scipy.optimize import minimize\n"
   ]
  },
  {
   "cell_type": "code",
   "execution_count": 2,
   "metadata": {},
   "outputs": [],
   "source": [
    "# Generate Primitives\n",
    "def has_bike(object_names):\n",
    "    if ('cycle' in object_names) or ('bike' in object_names) or ('bicycle' in object_names):\n",
    "        return 1\n",
    "    else:\n",
    "        return 0\n",
    "def has_human(object_names):\n",
    "    if (('person' in object_names) or ('woman' in object_names) or ('man' in object_names)) \\\n",
    "        and (('bicycle' in object_names) or 'bicycles' in object_names):\n",
    "        return 1\n",
    "    else:\n",
    "        return 0\n",
    "def has_road(object_names):\n",
    "    if ('road' in object_names) or ('street' in object_names) or ('concrete' in object_names):\n",
    "        return 1\n",
    "    else:\n",
    "        return 0\n",
    "def has_cars(object_names):\n",
    "    if ('car' in object_names) or ('cars' in object_names) or \\\n",
    "        ('bus' in object_names) or ('buses' in object_names) or \\\n",
    "        ('truck' in object_names) or ('trucks' in object_names):\n",
    "        return 1\n",
    "    else:\n",
    "        return 0"
   ]
  },
  {
   "cell_type": "code",
   "execution_count": 5,
   "metadata": {},
   "outputs": [
    {
     "name": "stdout",
     "output_type": "stream",
     "text": [
      "540\n"
     ]
    }
   ],
   "source": [
    "from primitive_helpers import bike_human_distance, bike_human_size, bike_human_nums\n",
    "from data_loader import DataLoader\n",
    "loader = DataLoader()\n",
    "\n",
    "def create_primitives(loader):\n",
    "    m = 7 # number of primitives\n",
    "    primitive_mtx = np.zeros((loader.train_num,m))\n",
    "\n",
    "    for i in range(loader.train_num):\n",
    "        primitive_mtx[i,0] = has_human(loader.train_object_names[i])\n",
    "        primitive_mtx[i,1] = has_road(loader.train_object_names[i])\n",
    "        primitive_mtx[i,2] = has_cars(loader.train_object_names[i])\n",
    "        primitive_mtx[i,3] = has_bike(loader.train_object_names[i])\n",
    "\n",
    "        primitive_mtx[i,4] = bike_human_distance(loader.train_object_names[i], \n",
    "                                                 loader.train_object_x[i], \n",
    "                                                 loader.train_object_y[i])\n",
    "\n",
    "        area = np.multiply(loader.train_object_height[i], loader.train_object_width[i])\n",
    "        primitive_mtx[i,5] = bike_human_size(loader.train_object_names[i], area)\n",
    "        primitive_mtx[i,6] = bike_human_nums(loader.train_object_names[i])\n",
    "\n",
    "    return primitive_mtx\n",
    "primitive_mtx = create_primitives(loader)\n",
    "\n",
    "p_keys = {\n",
    "    'has_human': primitive_mtx[:,0],\n",
    "    'has_road': primitive_mtx[:, 1],\n",
    "    'has_cars': primitive_mtx[:, 2],\n",
    "    'has_bike': primitive_mtx[:, 3],\n",
    "    'bike_human_distance': primitive_mtx[:, 4],\n",
    "    'bike_human_size': primitive_mtx[:, 5],\n",
    "    'bike_human_num': primitive_mtx[:, 6]\n",
    "   }\n",
    "pos = list(np.where(loader.train_ground>0)[0])\n",
    "neg = list(np.where(loader.train_ground<0)[0])[-len(pos):]\n",
    "chosen_data = pos + neg\n",
    "print(len(chosen_data))\n",
    "loader.train_ground = loader.train_ground[chosen_data]\n",
    "loader.train_num = len(chosen_data)"
   ]
  },
  {
   "cell_type": "code",
   "execution_count": 14,
   "metadata": {},
   "outputs": [],
   "source": [
    "x1 = []\n",
    "x2 = []\n",
    "def LF_street(has_human, has_road):\n",
    "    if has_human >= 1: \n",
    "        if has_road >= 1:\n",
    "            return 1\n",
    "        else:\n",
    "            return 0\n",
    "    return -1\n",
    "\n",
    "def LF_vehicles(has_human, has_cars):\n",
    "    if has_human >= 1: \n",
    "        if has_cars >= 1:\n",
    "            return 1\n",
    "        else:\n",
    "            return 0\n",
    "    return -1\n",
    "\n",
    "# def LF_vehicles(has_human, has_bikes):\n",
    "#     if has_human >= 1: \n",
    "#         if has_bikes >= 1:\n",
    "#             return 1\n",
    "#         else:\n",
    "#             return -1\n",
    "#     return -1\n",
    "\n",
    "def LF_distance(has_human, has_bike, bike_human_distance, thre=8):\n",
    "    if has_human >= 1:\n",
    "        if has_bike >= 1: \n",
    "            x1.append(bike_human_distance)\n",
    "            if bike_human_distance <= thre:\n",
    "                return 1\n",
    "            else:\n",
    "                return 0\n",
    "    else:\n",
    "        return -1\n",
    "    \n",
    "def LF_size(has_human, has_bike, bike_human_size, thre=1000):\n",
    "    if has_human >= 1:\n",
    "        if has_bike >= 1: \n",
    "            x2.append(bike_human_size)\n",
    "            if bike_human_size <= thre:\n",
    "                return 1\n",
    "            else:\n",
    "                return 0\n",
    "    else:\n",
    "        return -1\n",
    "    \n",
    "    \n",
    "def LF_number(has_human, has_bike, bike_human_num):\n",
    "    if has_human >= 1:\n",
    "        if has_bike >= 1: \n",
    "            if bike_human_num >= 2:\n",
    "                return 1\n",
    "            if bike_human_num >= 1:\n",
    "                return 0\n",
    "            if bike_human_num >= 0:\n",
    "                return 1 \n",
    "    else:\n",
    "        return -1"
   ]
  },
  {
   "cell_type": "code",
   "execution_count": 48,
   "metadata": {},
   "outputs": [],
   "source": [
    "def f(alpha, L_fns=None, ind=None, weights=None, epochs=None):\n",
    "    \"\"\"L_fns: list of functions\n",
    "       l: list of indicator for whether thresholds involve in the particular function \n",
    "    \"\"\"\n",
    "    alpha = np.exp(alpha)\n",
    "    for i in range(len(ind)):\n",
    "        L_fns[ind[i]] = partial(L_fns[ind[i]], thre=alpha[i])\n",
    "        \n",
    "    L = np.zeros((len(L_fns),loader.train_num)).astype(int)\n",
    "    \n",
    "    for j in range(len(chosen_data)):\n",
    "        i = chosen_data[j]\n",
    "        L[0,j] = L_fns[0](p_keys['has_human'][i], p_keys['has_road'][i])\n",
    "        L[1,j] = L_fns[1](p_keys['has_human'][i], p_keys['has_cars'][i])\n",
    "        L[2,j] = L_fns[2](p_keys['has_human'][i], p_keys['has_bike'][i], p_keys['bike_human_distance'][i])\n",
    "        L[3,j] = L_fns[3](p_keys['has_human'][i], p_keys['has_bike'][i], p_keys['bike_human_size'][i])\n",
    "        L[4,j] = L_fns[4](p_keys['has_human'][i], p_keys['has_bike'][i], p_keys['bike_human_num'][i])\n",
    "        \n",
    "    L_train = sparse.csr_matrix(L.T)\n",
    "    gen_model = GenerativeModel()\n",
    "    gen_model.train(L.T, epochs=epochs, decay=0.95, step_size= 0.01/ L.shape[1], reg_param=1e-6)\n",
    "    if weights is not None:\n",
    "        gen_model.weights = weights\n",
    "    train_marginals, likelihood = gen_model.marginals(L_train)\n",
    "    labels = 2 * (train_marginals > 0.5) - 1\n",
    "    gen = np.mean(labels == loader.train_ground)\n",
    "    f1_gen = f1_score(loader.train_ground, labels)\n",
    "    if weights is None:\n",
    "        return (gen,f1_gen), gen_model.weights, -likelihood \n",
    "    else:\n",
    "        return -likelihood \n",
    "\n",
    "    \n",
    "    "
   ]
  },
  {
   "cell_type": "code",
   "execution_count": null,
   "metadata": {},
   "outputs": [
    {
     "name": "stdout",
     "output_type": "stream",
     "text": [
      "[  1.  10.]\n",
      "(0.65000000000000002, 0.61663286004056794)\n",
      "[  1.  10.]\n",
      "(0.65000000000000002, 0.61663286004056794)\n",
      "[  1.  10.]\n",
      "(0.65000000000000002, 0.61663286004056794)\n",
      "[  1.  10.]\n",
      "(0.65000000000000002, 0.61663286004056794)\n",
      "[  1.  10.]\n",
      "(0.65000000000000002, 0.61663286004056794)\n",
      "[  1.  10.]\n",
      "(0.65000000000000002, 0.61663286004056794)\n",
      "[  1.  10.]\n",
      "(0.65000000000000002, 0.61663286004056794)\n"
     ]
    }
   ],
   "source": [
    "L_fns = [LF_street, LF_vehicles, LF_distance, LF_size, LF_number]\n",
    "ind = [2,3]\n",
    "alpha = np.ones((2,))*100\n",
    "alpha = [1,10]\n",
    "# init = np.zeros((3,2))\n",
    "# init[:,0] = [100, 200, 300]\n",
    "# init[:,1] = [1, 10, 100]\n",
    "\n",
    "iters = 100\n",
    "for i in range(100):\n",
    "    ans, weights, _ = f(alpha, L_fns=L_fns, ind=ind, epochs=500)\n",
    "    f_new = partial(f, L_fns=L_fns, ind=ind, epochs=0, weights=weights)\n",
    "    \n",
    "    alpha = minimize(f_new, alpha, method='Nelder-Mead').x\n",
    "    print(alpha)\n",
    "    print(ans) \n",
    "\n",
    "# f_new = partial(f, L_fns=L_fns, ind=ind, epochs=0, weights=weights)\n",
    "# init = np.zeros((3,2))\n",
    "# init[:,0] = [1, 100, 1000]\n",
    "# init[:,1] = [1, 100, 1000]\n",
    "# a = minimize(f_new,alpha, options={'initial_simplex' :init}, method='Nelder-Mead')\n",
    "    \n",
    "    \n"
   ]
  },
  {
   "cell_type": "code",
   "execution_count": 80,
   "metadata": {},
   "outputs": [
    {
     "name": "stdout",
     "output_type": "stream",
     "text": [
      " final_simplex: (array([[ 160299.15625   ,  160299.15625   ],\n",
      "       [ 160299.15628745,  160299.15628745],\n",
      "       [ 160299.15630807,  160299.15630807]]), array([-2497.37232156, -2497.37232156, -2497.37232156]))\n",
      "           fun: -2497.3723215558343\n",
      "       message: 'Optimization terminated successfully.'\n",
      "          nfev: 144\n",
      "           nit: 42\n",
      "        status: 0\n",
      "       success: True\n",
      "             x: array([ 160299.15625,  160299.15625])\n"
     ]
    }
   ],
   "source": [
    "print(a)"
   ]
  },
  {
   "cell_type": "code",
   "execution_count": null,
   "metadata": {},
   "outputs": [],
   "source": []
  }
 ],
 "metadata": {
  "kernelspec": {
   "display_name": "Python (snorkel)",
   "language": "python",
   "name": "snorkel"
  },
  "language_info": {
   "codemirror_mode": {
    "name": "ipython",
    "version": 3
   },
   "file_extension": ".py",
   "mimetype": "text/x-python",
   "name": "python",
   "nbconvert_exporter": "python",
   "pygments_lexer": "ipython3",
   "version": "3.6.6"
  }
 },
 "nbformat": 4,
 "nbformat_minor": 2
}
